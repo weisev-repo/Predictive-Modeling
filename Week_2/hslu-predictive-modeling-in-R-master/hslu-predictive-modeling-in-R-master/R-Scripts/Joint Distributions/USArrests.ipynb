{
 "cells": [
  {
   "cell_type": "code",
   "execution_count": 1,
   "metadata": {},
   "outputs": [
    {
     "data": {
      "text/html": [
       "\n",
       "<table width=\"100%\" summary=\"page for USArrests {datasets}\"><tr><td>USArrests {datasets}</td><td style=\"text-align: right;\">R Documentation</td></tr></table>\n",
       "\n",
       "<h2>Violent Crime Rates by US State</h2>\n",
       "\n",
       "<h3>Description</h3>\n",
       "\n",
       "<p>This data set contains statistics, in arrests per 100,000 residents\n",
       "for assault, murder, and rape in each of the 50 US states in 1973.\n",
       "Also given is the percent of the population living in urban areas.\n",
       "</p>\n",
       "\n",
       "\n",
       "<h3>Usage</h3>\n",
       "\n",
       "<pre>USArrests</pre>\n",
       "\n",
       "\n",
       "<h3>Format</h3>\n",
       "\n",
       "<p>A data frame with 50 observations on 4 variables.\n",
       "</p>\n",
       "\n",
       "<table summary=\"Rd table\">\n",
       "<tr>\n",
       " <td style=\"text-align: right;\">\n",
       "    [,1]  </td><td style=\"text-align: left;\"> Murder    </td><td style=\"text-align: left;\"> numeric </td><td style=\"text-align: left;\"> Murder arrests (per 100,000)</td>\n",
       "</tr>\n",
       "<tr>\n",
       " <td style=\"text-align: right;\">\n",
       "    [,2]  </td><td style=\"text-align: left;\"> Assault   </td><td style=\"text-align: left;\"> numeric </td><td style=\"text-align: left;\"> Assault arrests (per 100,000)</td>\n",
       "</tr>\n",
       "<tr>\n",
       " <td style=\"text-align: right;\">\n",
       "    [,3]  </td><td style=\"text-align: left;\"> UrbanPop  </td><td style=\"text-align: left;\"> numeric </td><td style=\"text-align: left;\"> Percent urban population</td>\n",
       "</tr>\n",
       "<tr>\n",
       " <td style=\"text-align: right;\">\n",
       "    [,4]  </td><td style=\"text-align: left;\"> Rape      </td><td style=\"text-align: left;\"> numeric </td><td style=\"text-align: left;\"> Rape arrests (per 100,000)\n",
       "  </td>\n",
       "</tr>\n",
       "\n",
       "</table>\n",
       "\n",
       "\n",
       "\n",
       "<h3>Note</h3>\n",
       "\n",
       "<p><code>USArrests</code> contains the data as in McNeil's monograph.  For the\n",
       "<code>UrbanPop</code> percentages, a review of the table (No. 21) in the\n",
       "Statistical Abstracts 1975 reveals a transcription error for Maryland\n",
       "(and that McNeil used the same &ldquo;round to even&rdquo; rule that <span style=\"font-family: Courier New, Courier; color: #666666;\"><b>R</b></span>'s\n",
       "<code>round()</code> uses), as found by Daniel S Coven (Arizona).\n",
       "</p>\n",
       "<p>See the example below on how to correct the error and improve accuracy\n",
       "for the &lsquo;&lt;n&gt;.5&rsquo; percentages.\n",
       "</p>\n",
       "\n",
       "\n",
       "<h3>Source</h3>\n",
       "\n",
       "<p>World Almanac and Book of facts 1975.  (Crime rates).\n",
       "</p>\n",
       "<p>Statistical Abstracts of the United States 1975, p.20, (Urban rates),\n",
       "possibly available as\n",
       "<a href=\"https://books.google.ch/books?id=zl9qAAAAMAAJ&amp;pg=PA20\">https://books.google.ch/books?id=zl9qAAAAMAAJ&amp;pg=PA20</a>.\n",
       "</p>\n",
       "\n",
       "\n",
       "<h3>References</h3>\n",
       "\n",
       "<p>McNeil, D. R. (1977)\n",
       "<em>Interactive Data Analysis</em>.\n",
       "New York: Wiley.\n",
       "</p>\n",
       "\n",
       "\n",
       "<h3>See Also</h3>\n",
       "\n",
       "<p>The <code>state</code> data sets.</p>\n",
       "\n",
       "\n",
       "<h3>Examples</h3>\n",
       "\n",
       "<pre>\n",
       "summary(USArrests)\n",
       "\n",
       "require(graphics)\n",
       "pairs(USArrests, panel = panel.smooth, main = \"USArrests data\")\n",
       "\n",
       "## Difference between 'USArrests' and its correction\n",
       "USArrests[\"Maryland\", \"UrbanPop\"] # 67 -- the transcription error\n",
       "UA.C &lt;- USArrests\n",
       "UA.C[\"Maryland\", \"UrbanPop\"] &lt;- 76.6\n",
       "\n",
       "## also +/- 0.5 to restore the original  &lt;n&gt;.5  percentages\n",
       "s5u &lt;- c(\"Colorado\", \"Florida\", \"Mississippi\", \"Wyoming\")\n",
       "s5d &lt;- c(\"Nebraska\", \"Pennsylvania\")\n",
       "UA.C[s5u, \"UrbanPop\"] &lt;- UA.C[s5u, \"UrbanPop\"] + 0.5\n",
       "UA.C[s5d, \"UrbanPop\"] &lt;- UA.C[s5d, \"UrbanPop\"] - 0.5\n",
       "\n",
       "## ==&gt; UA.C  is now a *C*orrected version of  USArrests\n",
       "</pre>\n",
       "\n",
       "<hr /><div style=\"text-align: center;\">[Package <em>datasets</em> version 4.0.0 ]</div>"
      ],
      "text/latex": [
       "\\inputencoding{utf8}\n",
       "\\HeaderA{USArrests}{Violent Crime Rates by US State}{USArrests}\n",
       "\\keyword{datasets}{USArrests}\n",
       "%\n",
       "\\begin{Description}\\relax\n",
       "This data set contains statistics, in arrests per 100,000 residents\n",
       "for assault, murder, and rape in each of the 50 US states in 1973.\n",
       "Also given is the percent of the population living in urban areas.\n",
       "\\end{Description}\n",
       "%\n",
       "\\begin{Usage}\n",
       "\\begin{verbatim}\n",
       "USArrests\n",
       "\\end{verbatim}\n",
       "\\end{Usage}\n",
       "%\n",
       "\\begin{Format}\n",
       "A data frame with 50 observations on 4 variables.\n",
       "\n",
       "\n",
       "\\Tabular{rlll}{\n",
       "[,1]  & Murder    & numeric & Murder arrests (per 100,000)\\\\{}\n",
       "[,2]  & Assault   & numeric & Assault arrests (per 100,000)\\\\{}\n",
       "[,3]  & UrbanPop  & numeric & Percent urban population\\\\{}\n",
       "[,4]  & Rape      & numeric & Rape arrests (per 100,000)\n",
       "}\n",
       "\\end{Format}\n",
       "%\n",
       "\\begin{Note}\\relax\n",
       "\\code{USArrests} contains the data as in McNeil's monograph.  For the\n",
       "\\code{UrbanPop} percentages, a review of the table (No. 21) in the\n",
       "Statistical Abstracts 1975 reveals a transcription error for Maryland\n",
       "(and that McNeil used the same ``round to even'' rule that \\R{}'s\n",
       "\\code{\\LinkA{round}{round}()} uses), as found by Daniel S Coven (Arizona).\n",
       "\n",
       "See the example below on how to correct the error and improve accuracy\n",
       "for the `<n>.5' percentages.\n",
       "\\end{Note}\n",
       "%\n",
       "\\begin{Source}\\relax\n",
       "World Almanac and Book of facts 1975.  (Crime rates).\n",
       "\n",
       "Statistical Abstracts of the United States 1975, p.20, (Urban rates),\n",
       "possibly available as\n",
       "\\url{https://books.google.ch/books?id=zl9qAAAAMAAJ&pg=PA20}.\n",
       "\\end{Source}\n",
       "%\n",
       "\\begin{References}\\relax\n",
       "McNeil, D. R. (1977)\n",
       "\\emph{Interactive Data Analysis}.\n",
       "New York: Wiley.\n",
       "\\end{References}\n",
       "%\n",
       "\\begin{SeeAlso}\\relax\n",
       "The \\code{\\LinkA{state}{state}} data sets.\n",
       "\\end{SeeAlso}\n",
       "%\n",
       "\\begin{Examples}\n",
       "\\begin{ExampleCode}\n",
       "summary(USArrests)\n",
       "\n",
       "require(graphics)\n",
       "pairs(USArrests, panel = panel.smooth, main = \"USArrests data\")\n",
       "\n",
       "## Difference between 'USArrests' and its correction\n",
       "USArrests[\"Maryland\", \"UrbanPop\"] # 67 -- the transcription error\n",
       "UA.C <- USArrests\n",
       "UA.C[\"Maryland\", \"UrbanPop\"] <- 76.6\n",
       "\n",
       "## also +/- 0.5 to restore the original  <n>.5  percentages\n",
       "s5u <- c(\"Colorado\", \"Florida\", \"Mississippi\", \"Wyoming\")\n",
       "s5d <- c(\"Nebraska\", \"Pennsylvania\")\n",
       "UA.C[s5u, \"UrbanPop\"] <- UA.C[s5u, \"UrbanPop\"] + 0.5\n",
       "UA.C[s5d, \"UrbanPop\"] <- UA.C[s5d, \"UrbanPop\"] - 0.5\n",
       "\n",
       "## ==> UA.C  is now a *C*orrected version of  USArrests\n",
       "\\end{ExampleCode}\n",
       "\\end{Examples}"
      ],
      "text/plain": [
       "USArrests               package:datasets               R Documentation\n",
       "\n",
       "_\bV_\bi_\bo_\bl_\be_\bn_\bt _\bC_\br_\bi_\bm_\be _\bR_\ba_\bt_\be_\bs _\bb_\by _\bU_\bS _\bS_\bt_\ba_\bt_\be\n",
       "\n",
       "_\bD_\be_\bs_\bc_\br_\bi_\bp_\bt_\bi_\bo_\bn:\n",
       "\n",
       "     This data set contains statistics, in arrests per 100,000\n",
       "     residents for assault, murder, and rape in each of the 50 US\n",
       "     states in 1973.  Also given is the percent of the population\n",
       "     living in urban areas.\n",
       "\n",
       "_\bU_\bs_\ba_\bg_\be:\n",
       "\n",
       "     USArrests\n",
       "     \n",
       "_\bF_\bo_\br_\bm_\ba_\bt:\n",
       "\n",
       "     A data frame with 50 observations on 4 variables.\n",
       "\n",
       "       [,1]  Murder    numeric  Murder arrests (per 100,000)  \n",
       "       [,2]  Assault   numeric  Assault arrests (per 100,000) \n",
       "       [,3]  UrbanPop  numeric  Percent urban population      \n",
       "       [,4]  Rape      numeric  Rape arrests (per 100,000)    \n",
       "      \n",
       "_\bN_\bo_\bt_\be:\n",
       "\n",
       "     ‘USArrests’ contains the data as in McNeil's monograph.  For the\n",
       "     ‘UrbanPop’ percentages, a review of the table (No. 21) in the\n",
       "     Statistical Abstracts 1975 reveals a transcription error for\n",
       "     Maryland (and that McNeil used the same “round to even” rule that\n",
       "     R's ‘round()’ uses), as found by Daniel S Coven (Arizona).\n",
       "\n",
       "     See the example below on how to correct the error and improve\n",
       "     accuracy for the ‘<n>.5’ percentages.\n",
       "\n",
       "_\bS_\bo_\bu_\br_\bc_\be:\n",
       "\n",
       "     World Almanac and Book of facts 1975.  (Crime rates).\n",
       "\n",
       "     Statistical Abstracts of the United States 1975, p.20, (Urban\n",
       "     rates), possibly available as <URL:\n",
       "     https://books.google.ch/books?id=zl9qAAAAMAAJ&pg=PA20>.\n",
       "\n",
       "_\bR_\be_\bf_\be_\br_\be_\bn_\bc_\be_\bs:\n",
       "\n",
       "     McNeil, D. R. (1977) _Interactive Data Analysis_.  New York:\n",
       "     Wiley.\n",
       "\n",
       "_\bS_\be_\be _\bA_\bl_\bs_\bo:\n",
       "\n",
       "     The ‘state’ data sets.\n",
       "\n",
       "_\bE_\bx_\ba_\bm_\bp_\bl_\be_\bs:\n",
       "\n",
       "     summary(USArrests)\n",
       "     \n",
       "     require(graphics)\n",
       "     pairs(USArrests, panel = panel.smooth, main = \"USArrests data\")\n",
       "     \n",
       "     ## Difference between 'USArrests' and its correction\n",
       "     USArrests[\"Maryland\", \"UrbanPop\"] # 67 -- the transcription error\n",
       "     UA.C <- USArrests\n",
       "     UA.C[\"Maryland\", \"UrbanPop\"] <- 76.6\n",
       "     \n",
       "     ## also +/- 0.5 to restore the original  <n>.5  percentages\n",
       "     s5u <- c(\"Colorado\", \"Florida\", \"Mississippi\", \"Wyoming\")\n",
       "     s5d <- c(\"Nebraska\", \"Pennsylvania\")\n",
       "     UA.C[s5u, \"UrbanPop\"] <- UA.C[s5u, \"UrbanPop\"] + 0.5\n",
       "     UA.C[s5d, \"UrbanPop\"] <- UA.C[s5d, \"UrbanPop\"] - 0.5\n",
       "     \n",
       "     ## ==> UA.C  is now a *C*orrected version of  USArrests\n",
       "     "
      ]
     },
     "metadata": {},
     "output_type": "display_data"
    }
   ],
   "source": [
    "#(a)\n",
    "  \n",
    "?USArrests"
   ]
  },
  {
   "cell_type": "code",
   "execution_count": 12,
   "metadata": {},
   "outputs": [],
   "source": [
    "#(b)\n",
    "\n",
    "dat <- as.matrix(USArrests[,c(1,2,4)])\n"
   ]
  },
  {
   "cell_type": "code",
   "execution_count": null,
   "metadata": {},
   "outputs": [],
   "source": [
    "#(c)\n",
    "\n",
    "stars(dat,draw.segments = TRUE, key.loc = c(15,1))\n",
    "# Compared to the other states, there are only a few cases \n",
    "# of murder and rape and an average number of assaults in Rhode \n",
    "# Island. North Dakota is the state with the lowest number of \n",
    "# crimes overall, the lengths of all segments are 0."
   ]
  },
  {
   "cell_type": "code",
   "execution_count": 5,
   "metadata": {},
   "outputs": [
    {
     "data": {
      "text/plain": [
       "     Murder          Assault           Rape      \n",
       " Min.   : 0.800   Min.   : 45.0   Min.   : 7.30  \n",
       " 1st Qu.: 4.075   1st Qu.:109.0   1st Qu.:15.07  \n",
       " Median : 7.250   Median :159.0   Median :20.10  \n",
       " Mean   : 7.788   Mean   :170.8   Mean   :21.23  \n",
       " 3rd Qu.:11.250   3rd Qu.:249.0   3rd Qu.:26.18  \n",
       " Max.   :17.400   Max.   :337.0   Max.   :46.00  "
      ]
     },
     "metadata": {},
     "output_type": "display_data"
    }
   ],
   "source": [
    "#(d)\n",
    "    \n",
    "summary(dat)\n",
    "\n",
    "# Since PC1 is in the direction of the largest variance we would \n",
    "# expect the variable Assault to get the\tlargest loadings for PC1."
   ]
  },
  {
   "cell_type": "code",
   "execution_count": 6,
   "metadata": {},
   "outputs": [
    {
     "data": {
      "text/html": [
       "<table>\n",
       "<caption>A matrix: 3 × 3 of type dbl</caption>\n",
       "<thead>\n",
       "\t<tr><th></th><th scope=col>PC1</th><th scope=col>PC2</th><th scope=col>PC3</th></tr>\n",
       "</thead>\n",
       "<tbody>\n",
       "\t<tr><th scope=row>Murder</th><td>-0.04180743</td><td> 0.02555358</td><td> 0.99879886</td></tr>\n",
       "\t<tr><th scope=row>Assault</th><td>-0.99630506</td><td>-0.07612980</td><td>-0.03975532</td></tr>\n",
       "\t<tr><th scope=row>Rape</th><td>-0.07502247</td><td> 0.99677042</td><td>-0.02864195</td></tr>\n",
       "</tbody>\n",
       "</table>\n"
      ],
      "text/latex": [
       "A matrix: 3 × 3 of type dbl\n",
       "\\begin{tabular}{r|lll}\n",
       "  & PC1 & PC2 & PC3\\\\\n",
       "\\hline\n",
       "\tMurder & -0.04180743 &  0.02555358 &  0.99879886\\\\\n",
       "\tAssault & -0.99630506 & -0.07612980 & -0.03975532\\\\\n",
       "\tRape & -0.07502247 &  0.99677042 & -0.02864195\\\\\n",
       "\\end{tabular}\n"
      ],
      "text/markdown": [
       "\n",
       "A matrix: 3 × 3 of type dbl\n",
       "\n",
       "| <!--/--> | PC1 | PC2 | PC3 |\n",
       "|---|---|---|---|\n",
       "| Murder | -0.04180743 |  0.02555358 |  0.99879886 |\n",
       "| Assault | -0.99630506 | -0.07612980 | -0.03975532 |\n",
       "| Rape | -0.07502247 |  0.99677042 | -0.02864195 |\n",
       "\n"
      ],
      "text/plain": [
       "        PC1         PC2         PC3        \n",
       "Murder  -0.04180743  0.02555358  0.99879886\n",
       "Assault -0.99630506 -0.07612980 -0.03975532\n",
       "Rape    -0.07502247  0.99677042 -0.02864195"
      ]
     },
     "metadata": {},
     "output_type": "display_data"
    }
   ],
   "source": [
    "#(e)\n",
    "\n",
    "pc <- prcomp(dat, scale=FALSE)\n",
    "pc$rotation\n",
    "\n",
    "#Yes, the variable Assault clearly gets the largest loadings for PC1. \n",
    "# Note: There is a cutoff in the princomp function which is by default \n",
    "# at 0.1. If a loading is below that cutoff, it only shows blank \n",
    "# spaces in the output."
   ]
  },
  {
   "cell_type": "code",
   "execution_count": 7,
   "metadata": {},
   "outputs": [
    {
     "data": {
      "text/html": [
       "<table>\n",
       "<caption>A matrix: 3 × 3 of type dbl</caption>\n",
       "<thead>\n",
       "\t<tr><th></th><th scope=col>PC1</th><th scope=col>PC2</th><th scope=col>PC3</th></tr>\n",
       "</thead>\n",
       "<tbody>\n",
       "\t<tr><th scope=row>Murder</th><td>-0.5826006</td><td> 0.5339532</td><td>-0.6127565</td></tr>\n",
       "\t<tr><th scope=row>Assault</th><td>-0.6079818</td><td> 0.2140236</td><td> 0.7645600</td></tr>\n",
       "\t<tr><th scope=row>Rape</th><td>-0.5393836</td><td>-0.8179779</td><td>-0.1999436</td></tr>\n",
       "</tbody>\n",
       "</table>\n"
      ],
      "text/latex": [
       "A matrix: 3 × 3 of type dbl\n",
       "\\begin{tabular}{r|lll}\n",
       "  & PC1 & PC2 & PC3\\\\\n",
       "\\hline\n",
       "\tMurder & -0.5826006 &  0.5339532 & -0.6127565\\\\\n",
       "\tAssault & -0.6079818 &  0.2140236 &  0.7645600\\\\\n",
       "\tRape & -0.5393836 & -0.8179779 & -0.1999436\\\\\n",
       "\\end{tabular}\n"
      ],
      "text/markdown": [
       "\n",
       "A matrix: 3 × 3 of type dbl\n",
       "\n",
       "| <!--/--> | PC1 | PC2 | PC3 |\n",
       "|---|---|---|---|\n",
       "| Murder | -0.5826006 |  0.5339532 | -0.6127565 |\n",
       "| Assault | -0.6079818 |  0.2140236 |  0.7645600 |\n",
       "| Rape | -0.5393836 | -0.8179779 | -0.1999436 |\n",
       "\n"
      ],
      "text/plain": [
       "        PC1        PC2        PC3       \n",
       "Murder  -0.5826006  0.5339532 -0.6127565\n",
       "Assault -0.6079818  0.2140236  0.7645600\n",
       "Rape    -0.5393836 -0.8179779 -0.1999436"
      ]
     },
     "metadata": {},
     "output_type": "display_data"
    }
   ],
   "source": [
    "#(f) From now on we work with scaled data.\n",
    "\n",
    "pc <- prcomp(dat, scale=TRUE)\n",
    "pc$rotation\n",
    "    \n",
    "# PC1 is a weighted average of the three violence measures \n",
    "# (PC1=-0.583 Murder - 0.608 Assault - 0.539 Rape). States with \n",
    "# a large number of crimes have a large negative score of PC1."
   ]
  },
  {
   "cell_type": "code",
   "execution_count": 8,
   "metadata": {},
   "outputs": [
    {
     "data": {
      "text/html": [
       "<style>\n",
       ".dl-inline {width: auto; margin:0; padding: 0}\n",
       ".dl-inline>dt, .dl-inline>dd {float: none; width: auto; display: inline-block}\n",
       ".dl-inline>dt::after {content: \":\\0020\"; padding-right: .5ex}\n",
       ".dl-inline>dt:not(:first-of-type) {padding-left: .5ex}\n",
       "</style><dl class=dl-inline><dt>Murder</dt><dd>0.533953218649886</dd><dt>Assault</dt><dd>0.214023583532996</dd><dt>Rape</dt><dd>-0.817977912895649</dd></dl>\n"
      ],
      "text/latex": [
       "\\begin{description*}\n",
       "\\item[Murder] 0.533953218649886\n",
       "\\item[Assault] 0.214023583532996\n",
       "\\item[Rape] -0.817977912895649\n",
       "\\end{description*}\n"
      ],
      "text/markdown": [
       "Murder\n",
       ":   0.533953218649886Assault\n",
       ":   0.214023583532996Rape\n",
       ":   -0.817977912895649\n",
       "\n"
      ],
      "text/plain": [
       "    Murder    Assault       Rape \n",
       " 0.5339532  0.2140236 -0.8179779 "
      ]
     },
     "metadata": {},
     "output_type": "display_data"
    }
   ],
   "source": [
    "#(g) \n",
    "pc$rotation[,2]\n",
    "   \n",
    "# The states with a high PC2 score are states with a low \n",
    "# number of Rape and at the same time high number of Murder."
   ]
  },
  {
   "cell_type": "code",
   "execution_count": 9,
   "metadata": {},
   "outputs": [
    {
     "data": {
      "text/plain": [
       "Importance of components:\n",
       "                          PC1    PC2     PC3\n",
       "Standard deviation     1.5358 0.6768 0.42822\n",
       "Proportion of Variance 0.7862 0.1527 0.06112\n",
       "Cumulative Proportion  0.7862 0.9389 1.00000"
      ]
     },
     "metadata": {},
     "output_type": "display_data"
    }
   ],
   "source": [
    "#(h)\n",
    "\n",
    "summary(pc)\n",
    "    \n",
    "# PC1 and PC2 explain approximately $94\\%$ of the total variance."
   ]
  },
  {
   "cell_type": "code",
   "execution_count": 10,
   "metadata": {},
   "outputs": [
    {
     "data": {
      "text/html": [
       "-3.09890687214786e-16"
      ],
      "text/latex": [
       "-3.09890687214786e-16"
      ],
      "text/markdown": [
       "-3.09890687214786e-16"
      ],
      "text/plain": [
       "[1] -3.098907e-16"
      ]
     },
     "metadata": {},
     "output_type": "display_data"
    },
    {
     "data": {
      "image/png": "[encoded data removed]",
      "text/plain": [
       "plot without title"
      ]
     },
     "metadata": {
      "image/png": {
       "height": 420,
       "width": 420
      },
      "text/plain": {
       "height": 420,
       "width": 420
      }
     },
     "output_type": "display_data"
    }
   ],
   "source": [
    "#(i)\n",
    "   \n",
    "cor(pc$x[,1], pc$x[,2]) #they are uncorrelated!\n",
    "    \n",
    " \n",
    "plot(pc$x[,2]~pc$x[,1], pch=\"\", ylab=\"PC2\", xlab=\"PC1\")\n",
    "text(pc$x[,1],pc$x[,2],abbreviate(row.names(dat),5))"
   ]
  },
  {
   "cell_type": "code",
   "execution_count": 11,
   "metadata": {},
   "outputs": [],
   "source": [
    "#(j)\n",
    "# As the loadings for PC1 are all negative, the most violent state according to PC1 is Florida and the least violent one North Dakota. The state with the highest PC2 score is Mississippi. The same conclusions can be drawn from the star plot: Florida's star plot has very large segments for Assault and Murder with Rape being a slightly smaller segment, North Dakota's segments aren't\n",
    "# even visible, as it has the smallest values for all three variables among all states and thus, the length\tof the segments is equal to zero. The segment for Murder in the star plot of Mississippi is very large compared to\n",
    "# the one for Rape. States which are close together in this plot as for example Alaska, Nevada and California (i.e. have similar scores for PC1 and PC2) also look very similar in the star plot. States that are far apart have very different shapes in the star plot."
   ]
  },
  {
   "cell_type": "code",
   "execution_count": null,
   "metadata": {},
   "outputs": [],
   "source": []
  }
 ],
 "metadata": {
  "kernelspec": {
   "display_name": "R",
   "language": "R",
   "name": "ir"
  },
  "language_info": {
   "codemirror_mode": "r",
   "file_extension": ".r",
   "mimetype": "text/x-r-source",
   "name": "R",
   "pygments_lexer": "r",
   "version": "4.0.0"
  }
 },
 "nbformat": 4,
 "nbformat_minor": 4
}
